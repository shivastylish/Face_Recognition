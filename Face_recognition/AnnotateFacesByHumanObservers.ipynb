{
 "cells": [
  {
   "cell_type": "code",
   "execution_count": 1,
   "metadata": {},
   "outputs": [],
   "source": [
    "import cv2\n",
    "from time import time\n",
    "import glob\n",
    "import os"
   ]
  },
  {
   "cell_type": "code",
   "execution_count": 2,
   "metadata": {},
   "outputs": [],
   "source": [
    "# Define some global variables\n",
    "boxes = []\n",
    "singleBox = [-1, -1, -1, -1]\n",
    "img = None\n",
    "flg_mouse_clicked = False\n"
   ]
  },
  {
   "cell_type": "code",
   "execution_count": 3,
   "metadata": {},
   "outputs": [],
   "source": [
    "def on_mouse(event, x, y, flags, params):\n",
    "    global img\n",
    "    global flg_mouse_clicked\n",
    "    global singleBox\n",
    "    global boxes\n",
    "    if event == cv2.EVENT_LBUTTONDOWN:\n",
    "        print ('Start Mouse Position: '+str(x)+', '+str(y))\n",
    "        singleBox[0] = x\n",
    "        singleBox[1] = y\n",
    "        flg_mouse_clicked = True\n",
    "    if event == cv2.EVENT_MOUSEMOVE and flg_mouse_clicked == True:\n",
    "        clone = img.copy()\n",
    "        cv2.rectangle(clone, pt1=(singleBox[0], singleBox[1]), pt2=(x, y), color=(0, 255, 255), thickness=1)\n",
    "        cv2.imshow(\"Image\", clone)\n",
    "    if event == cv2.EVENT_LBUTTONUP:\n",
    "        print ('End Mouse Position: '+str(x)+', '+str(y))\n",
    "        singleBox[2] = x\n",
    "        singleBox[3] = y\n",
    "        flg_mouse_clicked = False\n",
    "        if cv2.waitKey(0) == ord('k') and singleBox[2] != -1:\n",
    "            boxes.append(singleBox.copy())\n",
    "            cv2.rectangle(img, pt1=(singleBox[0], singleBox[1]), pt2=(x, y), color=(0, 255, 255), thickness=1)\n",
    "            singleBox = [-1, -1, -1, -1]\n"
   ]
  },
  {
   "cell_type": "code",
   "execution_count": 4,
   "metadata": {},
   "outputs": [],
   "source": [
    "def main():\n",
    "    global img\n",
    "    global boxes\n",
    "\n",
    "    #Create the window for annotation\n",
    "    cv2.namedWindow('Image')\n",
    "\n",
    "    #Calling the mouse click event\n",
    "    cv2.setMouseCallback(\"Image\", on_mouse)\n",
    "\n",
    "    #Read the name of the images from GT_FaceImages folder\n",
    "    imgfiles = glob.glob(\"./GT_FaceImages/*.jpg\")\n",
    "    for imgf in imgfiles:\n",
    "        img = cv2.imread(imgf)\n",
    "        while(True):\n",
    "            cv2.imshow(\"Image\", img)\n",
    "            if cv2.waitKey(0) == ord('n'):\n",
    "                file_name, file_extension = os.path.splitext(imgf)\n",
    "                f = open(file_name + \"_GT.txt\", \"w\")\n",
    "                for box in boxes:\n",
    "                    f.write(str(box[0]) + \" \"+str(box[1]) + \" \"+str(box[2]) + \" \"+str(box[3]) +\"\\n\")\n",
    "                f.close()\n",
    "                boxes = []\n",
    "                print (\"Go to next image!\")\n",
    "                break\n",
    "                "
   ]
  },
  {
   "cell_type": "code",
   "execution_count": null,
   "metadata": {},
   "outputs": [
    {
     "name": "stdout",
     "output_type": "stream",
     "text": [
      "Start Mouse Position: 380, 212\n",
      "End Mouse Position: 380, 212\n",
      "Start Mouse Position: 256, 131\n",
      "End Mouse Position: 256, 131\n",
      "Start Mouse Position: 256, 131\n",
      "End Mouse Position: 256, 131\n",
      "Start Mouse Position: 256, 131\n",
      "End Mouse Position: 256, 131\n"
     ]
    }
   ],
   "source": [
    "if __name__ == \"__main__\":\n",
    "    main()"
   ]
  },
  {
   "cell_type": "code",
   "execution_count": null,
   "metadata": {},
   "outputs": [],
   "source": []
  }
 ],
 "metadata": {
  "kernelspec": {
   "display_name": "Python 3 (ipykernel)",
   "language": "python",
   "name": "python3"
  },
  "language_info": {
   "codemirror_mode": {
    "name": "ipython",
    "version": 3
   },
   "file_extension": ".py",
   "mimetype": "text/x-python",
   "name": "python",
   "nbconvert_exporter": "python",
   "pygments_lexer": "ipython3",
   "version": "3.11.8"
  }
 },
 "nbformat": 4,
 "nbformat_minor": 4
}
