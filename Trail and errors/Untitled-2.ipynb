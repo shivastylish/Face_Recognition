{
 "cells": [
  {
   "cell_type": "code",
   "execution_count": 3,
   "metadata": {},
   "outputs": [
    {
     "name": "stdout",
     "output_type": "stream",
     "text": [
      "[(66, 66, 182, 182)]\n"
     ]
    }
   ],
   "source": [
    "import cv2\n",
    "\n",
    "# Function to detect faces in an image using OpenCV\n",
    "def detect_faces(image_path):\n",
    "    # Load the image\n",
    "    image = cv2.imread(image_path)\n",
    "    gray = cv2.cvtColor(image, cv2.COLOR_BGR2GRAY)\n",
    "    \n",
    "    # Load the pre-trained Haar Cascade face detector\n",
    "    face_cascade = cv2.CascadeClassifier(cv2.data.haarcascades + 'haarcascade_frontalface_default.xml')\n",
    "    \n",
    "    # Detect faces in the image\n",
    "    faces = face_cascade.detectMultiScale(gray, scaleFactor=1.1, minNeighbors=5, minSize=(30, 30))\n",
    "    \n",
    "    # Extract bounding boxes\n",
    "    face_boxes = []\n",
    "    for (x, y, w, h) in faces:\n",
    "        face_boxes.append((x, y, x+w, y+h))  # Convert to format (left, top, right, bottom)\n",
    "    \n",
    "    return face_boxes\n",
    "\n",
    "# Example usage\n",
    "image_path = r'C:\\Users\\shiva.LAPTOP-UFJRC864\\Downloads\\data\\Paul_McCartney\\Paul_McCartney_0007.jpg'\n",
    "detected_faces = detect_faces(image_path)\n",
    "print(detected_faces)\n"
   ]
  },
  {
   "cell_type": "code",
   "execution_count": 4,
   "metadata": {},
   "outputs": [
    {
     "name": "stdout",
     "output_type": "stream",
     "text": [
      "[array([-0.11664668,  0.02607503,  0.06085372,  0.06987271, -0.11434955,\n",
      "       -0.04656423,  0.01384718, -0.1106429 ,  0.03611296, -0.05220975,\n",
      "        0.18516597, -0.10891476, -0.26228595,  0.03328338, -0.03796044,\n",
      "        0.12155519, -0.06586499, -0.11029375, -0.19476533, -0.09961423,\n",
      "        0.01392479,  0.00461722, -0.06676803, -0.03853314, -0.08901162,\n",
      "       -0.30068293, -0.04274312, -0.05382758,  0.0513644 , -0.02545813,\n",
      "        0.00433272,  0.07156996, -0.21077074, -0.11130719,  0.06070227,\n",
      "        0.0893243 , -0.03146218,  0.02007754,  0.22786078, -0.03871481,\n",
      "       -0.2222553 ,  0.01478536,  0.1433038 ,  0.25392365,  0.11712611,\n",
      "        0.06124162,  0.01181407, -0.01144048,  0.05094711, -0.28421181,\n",
      "       -0.01175396,  0.10667574,  0.17228079,  0.09959555,  0.04792172,\n",
      "       -0.23856466,  0.01220097,  0.0954944 , -0.16619682,  0.09274929,\n",
      "        0.03720091, -0.15327504, -0.06763572,  0.00614557,  0.1969749 ,\n",
      "        0.07440444, -0.05763223, -0.12242267,  0.22925118, -0.1368904 ,\n",
      "        0.01089633,  0.0824646 , -0.05330544, -0.1466459 , -0.30621523,\n",
      "        0.02194367,  0.43319479,  0.01195889, -0.20523682, -0.01302428,\n",
      "       -0.03505629, -0.02356755,  0.06657637, -0.00052294, -0.04973014,\n",
      "       -0.00845482, -0.10236377,  0.04033679,  0.23121203, -0.07408622,\n",
      "        0.02133559,  0.13629848,  0.03870808, -0.04288716,  0.05222472,\n",
      "        0.1277218 , -0.10226174, -0.05935457, -0.15633401, -0.00891191,\n",
      "        0.1195111 , -0.13454027,  0.03008839,  0.09411407, -0.21709922,\n",
      "        0.13442943, -0.03011215, -0.05855848, -0.03342098, -0.01277746,\n",
      "       -0.02966715,  0.02406911,  0.19163641, -0.2286486 ,  0.21713112,\n",
      "        0.22805303, -0.099186  ,  0.11487208,  0.03175004,  0.00605873,\n",
      "        0.01560697,  0.01172954, -0.19735709, -0.18007842, -0.01408519,\n",
      "       -0.03620272, -0.04260441,  0.0612634 ])]\n"
     ]
    }
   ],
   "source": [
    "import numpy as np\n",
    "from sklearn.preprocessing import LabelEncoder\n",
    "from sklearn.svm import SVC\n",
    "from sklearn.pipeline import make_pipeline\n",
    "from sklearn.decomposition import PCA\n",
    "from sklearn.metrics import accuracy_score\n",
    "import face_recognition\n",
    "\n",
    "# Example function to extract features from detected faces\n",
    "def extract_features(image_path):\n",
    "    # Load the image and detect faces\n",
    "    image = face_recognition.load_image_file(image_path)\n",
    "    face_locations = face_recognition.face_locations(image)\n",
    "    \n",
    "    # Extract face encodings\n",
    "    face_encodings = face_recognition.face_encodings(image, face_locations)\n",
    "    \n",
    "    return face_encodings\n",
    "\n",
    "# Example usage\n",
    "image_path = r'C:\\Users\\shiva.LAPTOP-UFJRC864\\Downloads\\data\\Paul_McCartney\\Paul_McCartney_0007.jpg'\n",
    "face_features = extract_features(image_path)\n",
    "print(face_features)\n"
   ]
  },
  {
   "cell_type": "code",
   "execution_count": 7,
   "metadata": {},
   "outputs": [
    {
     "name": "stdout",
     "output_type": "stream",
     "text": [
      "Accuracy: 0.0\n"
     ]
    }
   ],
   "source": [
    "from sklearn.model_selection import train_test_split\n",
    "from sklearn.svm import SVC\n",
    "from sklearn.metrics import accuracy_score\n",
    "\n",
    "# Example: Assuming features and labels are defined somewhere\n",
    "# Replace [...] with your actual data loading or generation code\n",
    "\n",
    "# Example with NumPy arrays\n",
    "import numpy as np\n",
    "\n",
    "# Assuming features is a 2D array (n_samples, n_features) and labels is a 1D array (n_samples,)\n",
    "# Replace [...] with actual data or loading code\n",
    "features = np.array([\n",
    "    [1.2, 3.4, 5.6],\n",
    "    [2.3, 4.5, 6.7],\n",
    "    [3.4, 5.6, 7.8],\n",
    "    # Add more samples as needed\n",
    "])\n",
    "\n",
    "labels = np.array([0, 1, 0])  # Example labels (0 and 1)\n",
    "\n",
    "# Split the data into training and test sets\n",
    "X_train, X_test, y_train, y_test = train_test_split(features, labels, test_size=0.2, random_state=42)\n",
    "\n",
    "# Create an SVM classifier\n",
    "clf = SVC(kernel='linear')\n",
    "\n",
    "# Train the classifier\n",
    "clf.fit(X_train, y_train)\n",
    "\n",
    "# Predict using the trained classifier\n",
    "y_pred = clf.predict(X_test)\n",
    "\n",
    "# Calculate accuracy\n",
    "accuracy = accuracy_score(y_test, y_pred)\n",
    "print(f\"Accuracy: {accuracy}\")\n"
   ]
  },
  {
   "cell_type": "code",
   "execution_count": null,
   "metadata": {},
   "outputs": [],
   "source": []
  }
 ],
 "metadata": {
  "kernelspec": {
   "display_name": "base",
   "language": "python",
   "name": "python3"
  },
  "language_info": {
   "codemirror_mode": {
    "name": "ipython",
    "version": 3
   },
   "file_extension": ".py",
   "mimetype": "text/x-python",
   "name": "python",
   "nbconvert_exporter": "python",
   "pygments_lexer": "ipython3",
   "version": "3.11.7"
  }
 },
 "nbformat": 4,
 "nbformat_minor": 2
}
